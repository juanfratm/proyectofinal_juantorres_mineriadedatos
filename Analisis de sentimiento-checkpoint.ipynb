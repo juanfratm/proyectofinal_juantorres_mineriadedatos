{
 "cells": [
  {
   "cell_type": "code",
   "execution_count": null,
   "id": "82b94c58-c648-4f69-85dd-32ed1336fde8",
   "metadata": {},
   "outputs": [],
   "source": [
    "#Analisis de Sentimientos (Opcional)\n",
    "from nltk.sentiment import SentimentIntensityAnalyzer \n",
    "nltk.download('vader_lexicon')  \n",
    "\n",
    "# Iniciar el analizador de sentimientos\n",
    "sia = SentimentIntensityAnalyzer()\n",
    "\n",
    "# Función para analizar el sentimiento de un texto\n",
    "def analizar_sentimiento(texto): \n",
    "    return sia.polarity_scores(texto)['compound']\n",
    "\n",
    "#Aplicamos y generamos la columna sentiment_score\n",
    "df_EN['sentiment_score'] = df_EN['clean_text'].apply(analizar_sentimiento) \n",
    "\n",
    "\n",
    "#Función para clasificar según el puntaje\n",
    "def clasificar_sentimiento(score):\n",
    "    if score >= 0.05:\n",
    "        return 'positivo'\n",
    "    elif score <= -0.05:\n",
    "        return 'negativo'\n",
    "    else:\n",
    "        return 'neutral'\n",
    "\n",
    "#Aplicamos la clasificación\n",
    "df_EN['sentimiento'] = df_EN['sentiment_score'].apply(clasificar_sentimiento)\n",
    "\n",
    "\n",
    "print(df_EN[['clean_text', 'sentiment_score', 'sentimiento']].head(20))\n",
    "\n",
    "#Gráfica de barras: cantidad de comentarios por tipo de sentimiento\n",
    "\n",
    "df_EN['sentimiento'].value_counts().plot(kind='bar', color=['green', 'red', 'gray'])\n",
    "plt.title('Cantidad de comentarios por sentimiento')\n",
    "plt.xlabel('Sentimiento')\n",
    "plt.ylabel('Número de comentarios')\n",
    "plt.xticks(rotation=0)\n",
    "plt.show()\n"
   ]
  }
 ],
 "metadata": {
  "kernelspec": {
   "display_name": "Python 3 (ipykernel)",
   "language": "python",
   "name": "python3"
  },
  "language_info": {
   "codemirror_mode": {
    "name": "ipython",
    "version": 3
   },
   "file_extension": ".py",
   "mimetype": "text/x-python",
   "name": "python",
   "nbconvert_exporter": "python",
   "pygments_lexer": "ipython3",
   "version": "3.12.3"
  }
 },
 "nbformat": 4,
 "nbformat_minor": 5
}
